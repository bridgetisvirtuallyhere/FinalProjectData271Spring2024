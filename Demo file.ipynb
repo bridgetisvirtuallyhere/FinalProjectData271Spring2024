{
 "cells": [
  {
   "cell_type": "code",
   "execution_count": null,
   "id": "14cda511",
   "metadata": {},
   "outputs": [],
   "source": [
    "#Markdown\n",
    "the is a markdown cell\n"
   ]
  },
  {
   "cell_type": "code",
   "execution_count": 1,
   "id": "3f55dc28",
   "metadata": {},
   "outputs": [
    {
     "data": {
      "text/plain": [
       "4"
      ]
     },
     "execution_count": 1,
     "metadata": {},
     "output_type": "execute_result"
    }
   ],
   "source": [
    "#code\n",
    "2+2"
   ]
  },
  {
   "cell_type": "code",
   "execution_count": null,
   "id": "23e06767",
   "metadata": {},
   "outputs": [],
   "source": []
  }
 ],
 "metadata": {
  "kernelspec": {
   "display_name": "Python 3 (ipykernel)",
   "language": "python",
   "name": "python3"
  },
  "language_info": {
   "codemirror_mode": {
    "name": "ipython",
    "version": 3
   },
   "file_extension": ".py",
   "mimetype": "text/x-python",
   "name": "python",
   "nbconvert_exporter": "python",
   "pygments_lexer": "ipython3",
   "version": "3.10.11"
  }
 },
 "nbformat": 4,
 "nbformat_minor": 5
}
